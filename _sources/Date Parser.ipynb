{
 "cells": [
  {
   "cell_type": "markdown",
   "metadata": {},
   "source": [
    "# Date Parser\n",
    "\n",
    "Convert any date in a specified format"
   ]
  },
  {
   "cell_type": "code",
   "execution_count": 1,
   "metadata": {},
   "outputs": [
    {
     "name": "stdout",
     "output_type": "stream",
     "text": [
      "10-05-1996\n"
     ]
    }
   ],
   "source": [
    "import datetime\n",
    "import dateutil.parser\n",
    "\n",
    "input_date = '10th May 1996'\n",
    "\n",
    "parsed_date = dateutil.parser.parse(input_date)\n",
    "\n",
    "final_date = datetime.datetime.strftime(parsed_date, '%d-%m-%Y')\n",
    "\n",
    "print(final_date)"
   ]
  }
 ],
 "metadata": {
  "kernelspec": {
   "display_name": "Python 3",
   "language": "python",
   "name": "python3"
  },
  "language_info": {
   "codemirror_mode": {
    "name": "ipython",
    "version": 3
   },
   "file_extension": ".py",
   "mimetype": "text/x-python",
   "name": "python",
   "nbconvert_exporter": "python",
   "pygments_lexer": "ipython3",
   "version": "3.6.10"
  }
 },
 "nbformat": 4,
 "nbformat_minor": 4
}
