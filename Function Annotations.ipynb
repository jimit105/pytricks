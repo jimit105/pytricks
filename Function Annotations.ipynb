{
 "cells": [
  {
   "cell_type": "markdown",
   "metadata": {},
   "source": [
    "# Function Annotations"
   ]
  },
  {
   "cell_type": "markdown",
   "metadata": {},
   "source": [
    "[PEP 3107](https://www.python.org/dev/peps/pep-3107/) introduced a syntax for adding arbitrary metadata annotations to Python functions.  \n",
    "Function annotations, both for parameters and return values, are completely optional."
   ]
  },
  {
   "cell_type": "markdown",
   "metadata": {},
   "source": [
    "## Syntax\n",
    "\n",
    "Annotations for parameters take the form of optional expressions written after the parameter name:\n",
    "\n",
    "```python\n",
    "def foo(a: expression, b: expression = 5):\n",
    "    ...\n",
    "```  \n",
    "  \n",
    "The function's return value is annotated by using the literal `->` after the function definition followed by the Python expression:\n",
    "\n",
    "```python\n",
    "def sum() -> expression:\n",
    "    ...\n",
    "```\n",
    "  \n",
    "The expression for the annotations will be evaluated when the function definition is executed."
   ]
  },
  {
   "cell_type": "code",
   "execution_count": 1,
   "metadata": {},
   "outputs": [],
   "source": [
    "def func(name: str, age: int) -> str:\n",
    "    return_str = f'{name} is {age} years old'\n",
    "    return return_str"
   ]
  },
  {
   "cell_type": "markdown",
   "metadata": {},
   "source": [
    "## Accessing Function Annotations\n",
    "\n",
    "Once compiled, function annotations are retrieved by using the `__annotations__` attribute which returns a mutable dictionary."
   ]
  },
  {
   "cell_type": "code",
   "execution_count": 2,
   "metadata": {},
   "outputs": [
    {
     "name": "stdout",
     "output_type": "stream",
     "text": [
      "{'name': <class 'str'>, 'age': <class 'int'>, 'return': <class 'str'>}\n"
     ]
    }
   ],
   "source": [
    "print(func.__annotations__)"
   ]
  },
  {
   "cell_type": "markdown",
   "metadata": {},
   "source": [
    "## Reference\n",
    "\n",
    "- <https://www.python.org/dev/peps/pep-3107/>"
   ]
  }
 ],
 "metadata": {
  "kernelspec": {
   "display_name": "Python 3",
   "language": "python",
   "name": "python3"
  },
  "language_info": {
   "codemirror_mode": {
    "name": "ipython",
    "version": 3
   },
   "file_extension": ".py",
   "mimetype": "text/x-python",
   "name": "python",
   "nbconvert_exporter": "python",
   "pygments_lexer": "ipython3",
   "version": "3.6.10"
  }
 },
 "nbformat": 4,
 "nbformat_minor": 4
}
